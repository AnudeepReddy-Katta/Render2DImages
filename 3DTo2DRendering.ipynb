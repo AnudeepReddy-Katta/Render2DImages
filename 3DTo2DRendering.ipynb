{
  "nbformat": 4,
  "nbformat_minor": 0,
  "metadata": {
    "colab": {
      "name": "Anudeep_Submission.ipynb",
      "provenance": [],
      "collapsed_sections": []
    },
    "kernelspec": {
      "name": "python3",
      "display_name": "Python 3"
    },
    "accelerator": "GPU"
  },
  "cells": [
    {
      "cell_type": "code",
      "metadata": {
        "id": "IjcjsM4vM4aF",
        "colab": {
          "base_uri": "https://localhost:8080/",
          "height": 757
        },
        "outputId": "e89f31c3-0eef-49a7-8af8-9d7a393ffbca"
      },
      "source": [
        "I # Checking whether kaolin is installed,If it is not installing it\r\n",
        "need_kaolin=False\r\n",
        "try:\r\n",
        "  import kaolin as kal\r\n",
        "except ModuleNotFoundError:\r\n",
        "  need_kaolin=True\r\n",
        "if need_kaolin:\r\n",
        "  !pip install git+https://github.com/NVIDIAGameWorks/kaolin"
      ],
      "execution_count": null,
      "outputs": [
        {
          "output_type": "stream",
          "text": [
            "Collecting git+https://github.com/NVIDIAGameWorks/kaolin\n",
            "  Cloning https://github.com/NVIDIAGameWorks/kaolin to /tmp/pip-req-build-ggg8rvoh\n",
            "  Running command git clone -q https://github.com/NVIDIAGameWorks/kaolin /tmp/pip-req-build-ggg8rvoh\n",
            "Collecting torch<=1.7.0,>=1.5.0\n",
            "\u001b[?25l  Downloading https://files.pythonhosted.org/packages/80/2a/58f8078744e0408619c63148f7a2e8e48cf007e4146b74d4bb67c56d161b/torch-1.7.0-cp36-cp36m-manylinux1_x86_64.whl (776.7MB)\n",
            "\u001b[K     |████████████████████████████████| 776.7MB 22kB/s \n",
            "\u001b[?25hRequirement already satisfied: scipy<=1.5.2,>=1.2.0 in /usr/local/lib/python3.6/dist-packages (from kaolin==0.9.0) (1.4.1)\n",
            "Collecting Pillow>=8.0.0\n",
            "\u001b[?25l  Downloading https://files.pythonhosted.org/packages/b6/c0/442d9d87e0da00bf856ef6dd4916f84a2d710b5f1a367d42d7f3c4e99a6c/Pillow-8.1.0-cp36-cp36m-manylinux1_x86_64.whl (2.2MB)\n",
            "\u001b[K     |████████████████████████████████| 2.2MB 44.1MB/s \n",
            "\u001b[?25hCollecting tqdm>=4.51.0\n",
            "\u001b[?25l  Downloading https://files.pythonhosted.org/packages/b3/db/dcda019790a8d989b8b0e7290f1c651a0aaef10bbe6af00032155e04858d/tqdm-4.56.2-py2.py3-none-any.whl (72kB)\n",
            "\u001b[K     |████████████████████████████████| 81kB 9.2MB/s \n",
            "\u001b[?25hCollecting usd-core==20.11\n",
            "\u001b[?25l  Downloading https://files.pythonhosted.org/packages/c8/bd/b4dc735a73dc100b5ca92b5f7587c5d32be82a77e14267485384b0fca317/usd_core-20.11-cp36-none-manylinux2014_x86_64.whl (22.9MB)\n",
            "\u001b[K     |████████████████████████████████| 22.9MB 1.4MB/s \n",
            "\u001b[?25hRequirement already satisfied: dataclasses in /usr/local/lib/python3.6/dist-packages (from torch<=1.7.0,>=1.5.0->kaolin==0.9.0) (0.8)\n",
            "Requirement already satisfied: future in /usr/local/lib/python3.6/dist-packages (from torch<=1.7.0,>=1.5.0->kaolin==0.9.0) (0.16.0)\n",
            "Requirement already satisfied: typing-extensions in /usr/local/lib/python3.6/dist-packages (from torch<=1.7.0,>=1.5.0->kaolin==0.9.0) (3.7.4.3)\n",
            "Requirement already satisfied: numpy in /usr/local/lib/python3.6/dist-packages (from torch<=1.7.0,>=1.5.0->kaolin==0.9.0) (1.19.5)\n",
            "Building wheels for collected packages: kaolin\n",
            "  Building wheel for kaolin (setup.py) ... \u001b[?25l\u001b[?25hdone\n",
            "  Created wheel for kaolin: filename=kaolin-0.9.0-cp36-cp36m-linux_x86_64.whl size=14662660 sha256=2497a109631c400fea3831d3a88a0b2dd69156c0af30bc30bc753ec80037d67a\n",
            "  Stored in directory: /tmp/pip-ephem-wheel-cache-bh994z1g/wheels/15/c4/65/ae464259deb4025e30d12c79aa8a557dc7208121a6047d8dd0\n",
            "Successfully built kaolin\n",
            "\u001b[31mERROR: albumentations 0.1.12 has requirement imgaug<0.2.7,>=0.2.5, but you'll have imgaug 0.2.9 which is incompatible.\u001b[0m\n",
            "Installing collected packages: torch, Pillow, tqdm, usd-core, kaolin\n",
            "  Found existing installation: torch 1.7.0+cu101\n",
            "    Uninstalling torch-1.7.0+cu101:\n",
            "      Successfully uninstalled torch-1.7.0+cu101\n",
            "  Found existing installation: Pillow 7.0.0\n",
            "    Uninstalling Pillow-7.0.0:\n",
            "      Successfully uninstalled Pillow-7.0.0\n",
            "  Found existing installation: tqdm 4.41.1\n",
            "    Uninstalling tqdm-4.41.1:\n",
            "      Successfully uninstalled tqdm-4.41.1\n",
            "Successfully installed Pillow-8.1.0 kaolin-0.9.0 torch-1.7.0 tqdm-4.56.2 usd-core-20.11\n"
          ],
          "name": "stdout"
        },
        {
          "output_type": "display_data",
          "data": {
            "application/vnd.colab-display-data+json": {
              "pip_warning": {
                "packages": [
                  "PIL"
                ]
              }
            }
          },
          "metadata": {
            "tags": []
          }
        }
      ]
    },
    {
      "cell_type": "code",
      "metadata": {
        "id": "VB2Sa3fS7_El",
        "colab": {
          "base_uri": "https://localhost:8080/"
        },
        "outputId": "4b7145ff-a6b4-42ac-ae8a-759fe56cdf8b"
      },
      "source": [
        "# Importing auxillary libraries \r\n",
        "import os\r\n",
        "import sys\r\n",
        "import torch\r\n",
        "\r\n",
        "# Checking whether pytorch3d is installed,If it is not installing it\r\n",
        "need_pytorch3d=False\r\n",
        "try:\r\n",
        "    import pytorch3d\r\n",
        "except ModuleNotFoundError:\r\n",
        "    need_pytorch3d=True\r\n",
        "if need_pytorch3d:\r\n",
        "    if torch.__version__.startswith(\"1.7\") and sys.platform.startswith(\"linux\"):\r\n",
        "        # We try to install PyTorch3D via a released wheel.\r\n",
        "        version_str=\"\".join([\r\n",
        "            f\"py3{sys.version_info.minor}_cu\",\r\n",
        "            torch.version.cuda.replace(\".\",\"\"),\r\n",
        "            f\"_pyt{torch.__version__[0:5:2]}\"\r\n",
        "        ])\r\n",
        "        !pip install pytorch3d -f https://dl.fbaipublicfiles.com/pytorch3d/packaging/wheels/{version_str}/download.html\r\n",
        "    else:\r\n",
        "        # We try to install PyTorch3D from source.\r\n",
        "        !curl -LO https://github.com/NVIDIA/cub/archive/1.10.0.tar.gz\r\n",
        "        !tar xzf 1.10.0.tar.gz\r\n",
        "        os.environ[\"CUB_HOME\"] = os.getcwd() + \"/cub-1.10.0\"\r\n",
        "        !pip install 'git+https://github.com/facebookresearch/pytorch3d.git@stable'"
      ],
      "execution_count": null,
      "outputs": [
        {
          "output_type": "stream",
          "text": [
            "Looking in links: https://dl.fbaipublicfiles.com/pytorch3d/packaging/wheels/py36_cu102_pyt170/download.html\n",
            "Collecting pytorch3d\n",
            "\u001b[?25l  Downloading https://dl.fbaipublicfiles.com/pytorch3d/packaging/wheels/py36_cu102_pyt170/pytorch3d-0.4.0-cp36-cp36m-linux_x86_64.whl (31.6MB)\n",
            "\u001b[K     |████████████████████████████████| 31.6MB 111kB/s \n",
            "\u001b[?25hCollecting fvcore\n",
            "  Downloading https://files.pythonhosted.org/packages/93/e4/4b5ecbe673be8ed2701d1ade5882f3595d7e00c23255d9d4577d272b9643/fvcore-0.1.3.post20210213.tar.gz\n",
            "Collecting iopath\n",
            "  Downloading https://files.pythonhosted.org/packages/f2/c8/1830019bcecf26e76c3fdc36e2a6fa454388a233894dcf6f5eb00a881468/iopath-0.1.3.tar.gz\n",
            "Requirement already satisfied: numpy in /usr/local/lib/python3.6/dist-packages (from fvcore->pytorch3d) (1.19.5)\n",
            "Collecting yacs>=0.1.6\n",
            "  Downloading https://files.pythonhosted.org/packages/38/4f/fe9a4d472aa867878ce3bb7efb16654c5d63672b86dc0e6e953a67018433/yacs-0.1.8-py3-none-any.whl\n",
            "Collecting pyyaml>=5.1\n",
            "\u001b[?25l  Downloading https://files.pythonhosted.org/packages/7a/5b/bc0b5ab38247bba158504a410112b6c03f153c652734ece1849749e5f518/PyYAML-5.4.1-cp36-cp36m-manylinux1_x86_64.whl (640kB)\n",
            "\u001b[K     |████████████████████████████████| 645kB 12.3MB/s \n",
            "\u001b[?25hRequirement already satisfied: tqdm in /usr/local/lib/python3.6/dist-packages (from fvcore->pytorch3d) (4.56.2)\n",
            "Requirement already satisfied: termcolor>=1.1 in /usr/local/lib/python3.6/dist-packages (from fvcore->pytorch3d) (1.1.0)\n",
            "Requirement already satisfied: Pillow in /usr/local/lib/python3.6/dist-packages (from fvcore->pytorch3d) (8.1.0)\n",
            "Requirement already satisfied: tabulate in /usr/local/lib/python3.6/dist-packages (from fvcore->pytorch3d) (0.8.7)\n",
            "Collecting portalocker\n",
            "  Downloading https://files.pythonhosted.org/packages/82/22/e684c9e2e59b561dbe36538852e81849122c666c423448e3a5c99362c228/portalocker-2.2.1-py2.py3-none-any.whl\n",
            "Building wheels for collected packages: fvcore, iopath\n",
            "  Building wheel for fvcore (setup.py) ... \u001b[?25l\u001b[?25hdone\n",
            "  Created wheel for fvcore: filename=fvcore-0.1.3.post20210213-cp36-none-any.whl size=44977 sha256=fc0bc90702ddbb01cf660b5c7b412317af0cccfb7bc6be9cae95336be1b934b1\n",
            "  Stored in directory: /root/.cache/pip/wheels/6e/13/17/51fc28081c91c309faaedf03bf2077a004d887fb66156c45e3\n",
            "  Building wheel for iopath (setup.py) ... \u001b[?25l\u001b[?25hdone\n",
            "  Created wheel for iopath: filename=iopath-0.1.3-cp36-none-any.whl size=11169 sha256=53942146b73680096c4588a6901ff801c8c3fad944ca14eecb4df0dbf4cc2f5b\n",
            "  Stored in directory: /root/.cache/pip/wheels/a9/1d/55/94a55e032409ac7617f9cbb88a0fa2cf4e7208806c29730804\n",
            "Successfully built fvcore iopath\n",
            "Installing collected packages: pyyaml, yacs, portalocker, iopath, fvcore, pytorch3d\n",
            "  Found existing installation: PyYAML 3.13\n",
            "    Uninstalling PyYAML-3.13:\n",
            "      Successfully uninstalled PyYAML-3.13\n",
            "Successfully installed fvcore-0.1.3.post20210213 iopath-0.1.3 portalocker-2.2.1 pytorch3d-0.4.0 pyyaml-5.4.1 yacs-0.1.8\n"
          ],
          "name": "stdout"
        }
      ]
    },
    {
      "cell_type": "code",
      "metadata": {
        "id": "kzyK_g_CB8pd"
      },
      "source": [
        "# Importing libraries needed\r\n",
        "from matplotlib import pyplot as plt\r\n",
        "from kaolin import render,ops,io,metrics\r\n",
        "from pytorch3d.io import load_objs_as_meshes, load_obj"
      ],
      "execution_count": null,
      "outputs": []
    },
    {
      "cell_type": "code",
      "metadata": {
        "id": "Mc5xH9z9Yp-7"
      },
      "source": [
        "def render_image_array(file_name, camera_position, camera_up_dir = torch.tensor([[0.,-1.,0.]]),fovyangle = 30):\r\n",
        "\r\n",
        "  '''Gives a numpy array that can \r\n",
        "    Args:\r\n",
        "        file_name (str or Path): obj file path\r\n",
        "        camera_position (torch.FloatTensor): camera positions of shape (batch_size,3), it means where your cameras are\r\n",
        "        camera_up_dir (torch.FloatTensor): camera up directions of shape (batch_size,3), it means what are your camera up directions \r\n",
        "        fovyangle (float): field of view angle of y axis'''\r\n",
        "\r\n",
        "  # Load obj file and extracting faces & vertices\r\n",
        "  try:\r\n",
        "\r\n",
        "    mesh=io.obj.import_mesh(file_name ,with_materials=False ,with_normals=True)\r\n",
        "\r\n",
        "    vertices = mesh.vertices.unsqueeze(0).cuda()\r\n",
        "\r\n",
        "    faces = mesh.faces.cuda()\r\n",
        "  \r\n",
        "  #kaolin only supports obj files having faces with three vertices, so incase if we have\r\n",
        "  #more more vertices per face load_objs_as_meshes from pytorch3d is used to load obj files \r\n",
        "  except ValueError:\r\n",
        "\r\n",
        "    mesh = load_objs_as_meshes([file_name], device='cuda')\r\n",
        "    \r\n",
        "    vertices = mesh.verts_packed().unsqueeze(0)\r\n",
        "    \r\n",
        "\r\n",
        "    faces = mesh.faces_packed()\r\n",
        "\r\n",
        "  camera_position = camera_position.cuda()\r\n",
        "\r\n",
        "  camera_up_dir = camera_up_dir.cuda()\r\n",
        "\r\n",
        "  # Postion at which camera should point\r\n",
        "  look_at = vertices.mean(dim=1)[0]\r\n",
        "\r\n",
        "  print(look_at)\r\n",
        "\r\n",
        "  # Generating rotation and transaltion matrices \r\n",
        "  camera_rot , camera_trans = render.camera.generate_rotate_translate_matrices(camera_position, look_at, camera_up_dir)\r\n",
        "\r\n",
        "  # Generating camera projection based on field of view angle\r\n",
        "  camera_proj = render.camera.generate_perspective_projection(fovyangle, ratio=1.0, dtype=torch.float32).cuda()\r\n",
        "\r\n",
        "  # Projecting vertices and other features to camera's view\r\n",
        "  face_vertices_z = render.mesh.prepare_vertices(vertices, faces, camera_rot, camera_trans, camera_proj)[0][:,:,:,2]\r\n",
        "  face_vertices_image = render.mesh.prepare_vertices(vertices, faces, camera_rot, camera_trans, camera_proj)[1]\r\n",
        "  face_normals_z = render.mesh.prepare_vertices(vertices, faces, camera_rot, camera_trans, camera_proj)[2][:,:,2]\r\n",
        "\r\n",
        "  #Index vertex features to convert per vertex tensor to per vertex per face tensor.\r\n",
        "  face_features = ops.mesh.index_vertices_by_faces(vertices, faces)\r\n",
        "\r\n",
        "  #Renders 3D triangle meshes with per-vertex per-face features to generalized feature “images”,\r\n",
        "  #soft foreground masks, depth and face index maps.\r\n",
        "  rendered = render.mesh.dibr_rasterization(512, 512, face_vertices_z, face_vertices_image, face_features, face_normals_z) \r\n",
        "  \r\n",
        "  #Rendered image\r\n",
        "  rendered_image_arr = rendered[0].squeeze(0).squeeze(2).cpu().numpy()\r\n",
        "\r\n",
        "  return rendered_image_arr"
      ],
      "execution_count": null,
      "outputs": []
    },
    {
      "cell_type": "code",
      "metadata": {
        "colab": {
          "base_uri": "https://localhost:8080/",
          "height": 369
        },
        "id": "1W6D8vw81Y6E",
        "outputId": "3dc1a555-fcb1-4fc8-b9c7-ef37b5461ec5"
      },
      "source": [
        "plt.imshow(render_image_array('/content/drive/MyDrive/render_assignment/sofa_01.obj',torch.tensor([[0.,80.,130.]])))\r\n",
        "plt.axis('off')\r\n",
        "plt.title('Sofa 1 front view')"
      ],
      "execution_count": null,
      "outputs": [
        {
          "output_type": "stream",
          "text": [
            "/usr/local/lib/python3.6/dist-packages/pytorch3d/io/obj_io.py:531: UserWarning: Mtl file does not exist: /content/drive/MyDrive/render_assignment/SSS_061.mtl\n",
            "  warnings.warn(f\"Mtl file does not exist: {f}\")\n",
            "Clipping input data to the valid range for imshow with RGB data ([0..1] for floats or [0..255] for integers).\n"
          ],
          "name": "stderr"
        },
        {
          "output_type": "stream",
          "text": [
            "tensor([-3.2704, 49.7224,  7.2224], device='cuda:0')\n"
          ],
          "name": "stdout"
        },
        {
          "output_type": "execute_result",
          "data": {
            "text/plain": [
              "Text(0.5, 1.0, 'Sofa 1 front view')"
            ]
          },
          "metadata": {
            "tags": []
          },
          "execution_count": 6
        },
        {
          "output_type": "display_data",
          "data": {
            "image/png": "[encoded data removed]",
            "text/plain": [
              "<Figure size 432x288 with 1 Axes>"
            ]
          },
          "metadata": {
            "tags": [],
            "needs_background": "light"
          }
        }
      ]
    },
    {
      "cell_type": "code",
      "metadata": {
        "colab": {
          "base_uri": "https://localhost:8080/",
          "height": 369
        },
        "id": "YnmRsS569aqG",
        "outputId": "96e11021-9d9d-44d9-b6e4-5aabe03831e8"
      },
      "source": [
        "plt.imshow(render_image_array('/content/drive/MyDrive/render_assignment/sofa_01.obj',torch.tensor([[120.,80.,-7.2224]])))\r\n",
        "plt.axis('off')\r\n",
        "plt.title('Sofa 1 right view')"
      ],
      "execution_count": null,
      "outputs": [
        {
          "output_type": "stream",
          "text": [
            "/usr/local/lib/python3.6/dist-packages/pytorch3d/io/obj_io.py:531: UserWarning: Mtl file does not exist: /content/drive/MyDrive/render_assignment/SSS_061.mtl\n",
            "  warnings.warn(f\"Mtl file does not exist: {f}\")\n",
            "Clipping input data to the valid range for imshow with RGB data ([0..1] for floats or [0..255] for integers).\n"
          ],
          "name": "stderr"
        },
        {
          "output_type": "stream",
          "text": [
            "tensor([-3.2704, 49.7224,  7.2224], device='cuda:0')\n"
          ],
          "name": "stdout"
        },
        {
          "output_type": "execute_result",
          "data": {
            "text/plain": [
              "Text(0.5, 1.0, 'Sofa 1 right view')"
            ]
          },
          "metadata": {
            "tags": []
          },
          "execution_count": 7
        },
        {
          "output_type": "display_data",
          "data": {
            "image/png": "[encoded data removed]",
            "text/plain": [
              "<Figure size 432x288 with 1 Axes>"
            ]
          },
          "metadata": {
            "tags": [],
            "needs_background": "light"
          }
        }
      ]
    },
    {
      "cell_type": "code",
      "metadata": {
        "colab": {
          "base_uri": "https://localhost:8080/",
          "height": 369
        },
        "id": "olRRXYLb-n4y",
        "outputId": "053a3a2a-197c-41f6-871b-092de07d8eaf"
      },
      "source": [
        "plt.imshow(render_image_array('/content/drive/MyDrive/render_assignment/sofa_01.obj',torch.tensor([[-120.,80.,-7.2224]])))\r\n",
        "plt.axis('off')\r\n",
        "plt.title('Sofa 1 left view')"
      ],
      "execution_count": null,
      "outputs": [
        {
          "output_type": "stream",
          "text": [
            "/usr/local/lib/python3.6/dist-packages/pytorch3d/io/obj_io.py:531: UserWarning: Mtl file does not exist: /content/drive/MyDrive/render_assignment/SSS_061.mtl\n",
            "  warnings.warn(f\"Mtl file does not exist: {f}\")\n",
            "Clipping input data to the valid range for imshow with RGB data ([0..1] for floats or [0..255] for integers).\n"
          ],
          "name": "stderr"
        },
        {
          "output_type": "stream",
          "text": [
            "tensor([-3.2704, 49.7224,  7.2224], device='cuda:0')\n"
          ],
          "name": "stdout"
        },
        {
          "output_type": "execute_result",
          "data": {
            "text/plain": [
              "Text(0.5, 1.0, 'Sofa 1 left view')"
            ]
          },
          "metadata": {
            "tags": []
          },
          "execution_count": 8
        },
        {
          "output_type": "display_data",
          "data": {
            "image/png": "[encoded data removed]",
            "text/plain": [
              "<Figure size 432x288 with 1 Axes>"
            ]
          },
          "metadata": {
            "tags": [],
            "needs_background": "light"
          }
        }
      ]
    },
    {
      "cell_type": "code",
      "metadata": {
        "colab": {
          "base_uri": "https://localhost:8080/",
          "height": 315
        },
        "id": "Ua86XhW9Zgha",
        "outputId": "e79f452f-9fcb-4572-9ce7-70d15576986d"
      },
      "source": [
        "plt.imshow(render_image_array('/content/drive/MyDrive/render_assignment/sofa_02.obj',torch.tensor([[-0.3196,85.,130.]])))\r\n",
        "plt.axis('off')\r\n",
        "plt.title('Sofa 2 front view')"
      ],
      "execution_count": null,
      "outputs": [
        {
          "output_type": "stream",
          "text": [
            "Clipping input data to the valid range for imshow with RGB data ([0..1] for floats or [0..255] for integers).\n"
          ],
          "name": "stderr"
        },
        {
          "output_type": "stream",
          "text": [
            "tensor([ 0.3196, 50.5907, -9.3428], device='cuda:0')\n"
          ],
          "name": "stdout"
        },
        {
          "output_type": "execute_result",
          "data": {
            "text/plain": [
              "Text(0.5, 1.0, 'Sofa 2 front view')"
            ]
          },
          "metadata": {
            "tags": []
          },
          "execution_count": 9
        },
        {
          "output_type": "display_data",
          "data": {
            "image/png": "[encoded data removed]",
            "text/plain": [
              "<Figure size 432x288 with 1 Axes>"
            ]
          },
          "metadata": {
            "tags": [],
            "needs_background": "light"
          }
        }
      ]
    },
    {
      "cell_type": "code",
      "metadata": {
        "id": "PH42PvkuGaQX",
        "colab": {
          "base_uri": "https://localhost:8080/",
          "height": 315
        },
        "outputId": "72f41d01-b997-4122-dcef-9317e52a16fa"
      },
      "source": [
        "plt.imshow(render_image_array('/content/drive/MyDrive/render_assignment/sofa_02.obj',torch.tensor([[135.,85.,-10.]],device='cuda')))\r\n",
        "plt.axis('off')\r\n",
        "plt.title('Sofa 2 right view')"
      ],
      "execution_count": null,
      "outputs": [
        {
          "output_type": "stream",
          "text": [
            "Clipping input data to the valid range for imshow with RGB data ([0..1] for floats or [0..255] for integers).\n"
          ],
          "name": "stderr"
        },
        {
          "output_type": "stream",
          "text": [
            "tensor([ 0.3196, 50.5907, -9.3428], device='cuda:0')\n"
          ],
          "name": "stdout"
        },
        {
          "output_type": "execute_result",
          "data": {
            "text/plain": [
              "Text(0.5, 1.0, 'Sofa 2 right view')"
            ]
          },
          "metadata": {
            "tags": []
          },
          "execution_count": 10
        },
        {
          "output_type": "display_data",
          "data": {
            "image/png": "[encoded data removed]",
            "text/plain": [
              "<Figure size 432x288 with 1 Axes>"
            ]
          },
          "metadata": {
            "tags": [],
            "needs_background": "light"
          }
        }
      ]
    },
    {
      "cell_type": "code",
      "metadata": {
        "colab": {
          "base_uri": "https://localhost:8080/",
          "height": 315
        },
        "id": "jmz_YX2VdQXE",
        "outputId": "7479c167-d210-4504-cef4-f8f1f0f1c753"
      },
      "source": [
        "plt.imshow(render_image_array('/content/drive/MyDrive/render_assignment/sofa_02.obj',torch.tensor([[-135.,85.,-10.]])))\r\n",
        "plt.axis('off')\r\n",
        "plt.title('Sofa 2 left view')"
      ],
      "execution_count": null,
      "outputs": [
        {
          "output_type": "stream",
          "text": [
            "Clipping input data to the valid range for imshow with RGB data ([0..1] for floats or [0..255] for integers).\n"
          ],
          "name": "stderr"
        },
        {
          "output_type": "stream",
          "text": [
            "tensor([ 0.3196, 50.5907, -9.3428], device='cuda:0')\n"
          ],
          "name": "stdout"
        },
        {
          "output_type": "execute_result",
          "data": {
            "text/plain": [
              "Text(0.5, 1.0, 'Sofa 2 left view')"
            ]
          },
          "metadata": {
            "tags": []
          },
          "execution_count": 11
        },
        {
          "output_type": "display_data",
          "data": {
            "image/png": "[encoded data removed]",
            "text/plain": [
              "<Figure size 432x288 with 1 Axes>"
            ]
          },
          "metadata": {
            "tags": [],
            "needs_background": "light"
          }
        }
      ]
    },
    {
      "cell_type": "code",
      "metadata": {
        "colab": {
          "base_uri": "https://localhost:8080/",
          "height": 315
        },
        "id": "hUAHGP5ZdssK",
        "outputId": "7c79c9eb-54b9-4248-8d67-df306d5d48df"
      },
      "source": [
        "plt.imshow(render_image_array('/content/drive/MyDrive/render_assignment/sofa_03.obj', torch.tensor([[-0.3196,85.,100.]]),torch.tensor([[0.,-1.,-1.]])))\r\n",
        "plt.axis('off')\r\n",
        "plt.title('Sofa 3 front view')"
      ],
      "execution_count": null,
      "outputs": [
        {
          "output_type": "stream",
          "text": [
            "Clipping input data to the valid range for imshow with RGB data ([0..1] for floats or [0..255] for integers).\n"
          ],
          "name": "stderr"
        },
        {
          "output_type": "stream",
          "text": [
            "tensor([-0.4573, 34.5165, -0.3901], device='cuda:0')\n"
          ],
          "name": "stdout"
        },
        {
          "output_type": "execute_result",
          "data": {
            "text/plain": [
              "Text(0.5, 1.0, 'Sofa 3 front view')"
            ]
          },
          "metadata": {
            "tags": []
          },
          "execution_count": 12
        },
        {
          "output_type": "display_data",
          "data": {
            "image/png": "[encoded data removed]",
            "text/plain": [
              "<Figure size 432x288 with 1 Axes>"
            ]
          },
          "metadata": {
            "tags": [],
            "needs_background": "light"
          }
        }
      ]
    },
    {
      "cell_type": "code",
      "metadata": {
        "colab": {
          "base_uri": "https://localhost:8080/",
          "height": 315
        },
        "id": "Ic7lYxdSebL6",
        "outputId": "8f2f3777-2a17-42f5-c93d-4fffc2048cbc"
      },
      "source": [
        "plt.imshow(render_image_array('/content/drive/MyDrive/render_assignment/sofa_03.obj',torch.tensor([[100.,85.,0.]])))\r\n",
        "plt.axis('off')\r\n",
        "plt.title('Sofa 3 right view')"
      ],
      "execution_count": null,
      "outputs": [
        {
          "output_type": "stream",
          "text": [
            "Clipping input data to the valid range for imshow with RGB data ([0..1] for floats or [0..255] for integers).\n"
          ],
          "name": "stderr"
        },
        {
          "output_type": "stream",
          "text": [
            "tensor([-0.4573, 34.5165, -0.3901], device='cuda:0')\n"
          ],
          "name": "stdout"
        },
        {
          "output_type": "execute_result",
          "data": {
            "text/plain": [
              "Text(0.5, 1.0, 'Sofa 3 right view')"
            ]
          },
          "metadata": {
            "tags": []
          },
          "execution_count": 13
        },
        {
          "output_type": "display_data",
          "data": {
            "image/png": "[encoded data removed]",
            "text/plain": [
              "<Figure size 432x288 with 1 Axes>"
            ]
          },
          "metadata": {
            "tags": [],
            "needs_background": "light"
          }
        }
      ]
    },
    {
      "cell_type": "code",
      "metadata": {
        "colab": {
          "base_uri": "https://localhost:8080/",
          "height": 315
        },
        "id": "FQGFkyLzdcMp",
        "outputId": "937f574f-267c-4369-efa6-f4d31d9fc9a9"
      },
      "source": [
        "plt.imshow(render_image_array('/content/drive/MyDrive/render_assignment/sofa_03.obj',torch.tensor([[-100.,85.,0.]])))\r\n",
        "plt.axis('off')\r\n",
        "plt.title('Sofa 3 left view')"
      ],
      "execution_count": null,
      "outputs": [
        {
          "output_type": "stream",
          "text": [
            "Clipping input data to the valid range for imshow with RGB data ([0..1] for floats or [0..255] for integers).\n"
          ],
          "name": "stderr"
        },
        {
          "output_type": "stream",
          "text": [
            "tensor([-0.4573, 34.5165, -0.3901], device='cuda:0')\n"
          ],
          "name": "stdout"
        },
        {
          "output_type": "execute_result",
          "data": {
            "text/plain": [
              "Text(0.5, 1.0, 'Sofa 3 left view')"
            ]
          },
          "metadata": {
            "tags": []
          },
          "execution_count": 14
        },
        {
          "output_type": "display_data",
          "data": {
            "image/png": "[encoded data removed]",
            "text/plain": [
              "<Figure size 432x288 with 1 Axes>"
            ]
          },
          "metadata": {
            "tags": [],
            "needs_background": "light"
          }
        }
      ]
    }
  ]
}